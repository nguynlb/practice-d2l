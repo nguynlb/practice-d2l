{
  "nbformat": 4,
  "nbformat_minor": 0,
  "metadata": {
    "colab": {
      "provenance": [],
      "gpuType": "T4"
    },
    "kernelspec": {
      "name": "python3",
      "display_name": "Python 3"
    },
    "language_info": {
      "name": "python"
    },
    "accelerator": "GPU",
    "widgets": {
      "application/vnd.jupyter.widget-state+json": {
        "2d117233b49a428abc9ce8144984e94c": {
          "model_module": "@jupyter-widgets/controls",
          "model_name": "HBoxModel",
          "model_module_version": "1.5.0",
          "state": {
            "_dom_classes": [],
            "_model_module": "@jupyter-widgets/controls",
            "_model_module_version": "1.5.0",
            "_model_name": "HBoxModel",
            "_view_count": null,
            "_view_module": "@jupyter-widgets/controls",
            "_view_module_version": "1.5.0",
            "_view_name": "HBoxView",
            "box_style": "",
            "children": [
              "IPY_MODEL_2488227f4b9940f08753c335c78551a5",
              "IPY_MODEL_7c9eaff5b6c747ecb2bbeef082530311",
              "IPY_MODEL_bbab4c40881c4220a8ccc1cf0baa4668"
            ],
            "layout": "IPY_MODEL_9484b4b456b24ec7b34e53cb00caa4b7"
          }
        },
        "2488227f4b9940f08753c335c78551a5": {
          "model_module": "@jupyter-widgets/controls",
          "model_name": "HTMLModel",
          "model_module_version": "1.5.0",
          "state": {
            "_dom_classes": [],
            "_model_module": "@jupyter-widgets/controls",
            "_model_module_version": "1.5.0",
            "_model_name": "HTMLModel",
            "_view_count": null,
            "_view_module": "@jupyter-widgets/controls",
            "_view_module_version": "1.5.0",
            "_view_name": "HTMLView",
            "description": "",
            "description_tooltip": null,
            "layout": "IPY_MODEL_67d7f4d4e90d433284c1a7d6ae7de392",
            "placeholder": "​",
            "style": "IPY_MODEL_59b2d2aeeaf941559ea9f3dad66788a1",
            "value": "100%"
          }
        },
        "7c9eaff5b6c747ecb2bbeef082530311": {
          "model_module": "@jupyter-widgets/controls",
          "model_name": "FloatProgressModel",
          "model_module_version": "1.5.0",
          "state": {
            "_dom_classes": [],
            "_model_module": "@jupyter-widgets/controls",
            "_model_module_version": "1.5.0",
            "_model_name": "FloatProgressModel",
            "_view_count": null,
            "_view_module": "@jupyter-widgets/controls",
            "_view_module_version": "1.5.0",
            "_view_name": "ProgressView",
            "bar_style": "success",
            "description": "",
            "description_tooltip": null,
            "layout": "IPY_MODEL_6786f019147245fa88bb927772d79f72",
            "max": 20,
            "min": 0,
            "orientation": "horizontal",
            "style": "IPY_MODEL_3a05199bdaf447b995556cde184dae07",
            "value": 20
          }
        },
        "bbab4c40881c4220a8ccc1cf0baa4668": {
          "model_module": "@jupyter-widgets/controls",
          "model_name": "HTMLModel",
          "model_module_version": "1.5.0",
          "state": {
            "_dom_classes": [],
            "_model_module": "@jupyter-widgets/controls",
            "_model_module_version": "1.5.0",
            "_model_name": "HTMLModel",
            "_view_count": null,
            "_view_module": "@jupyter-widgets/controls",
            "_view_module_version": "1.5.0",
            "_view_name": "HTMLView",
            "description": "",
            "description_tooltip": null,
            "layout": "IPY_MODEL_566a2ce4ff4b477db446f4ade309487a",
            "placeholder": "​",
            "style": "IPY_MODEL_e538be945875448d9fe4050ce5e7b796",
            "value": " 20/20 [03:40&lt;00:00, 10.99s/it]"
          }
        },
        "9484b4b456b24ec7b34e53cb00caa4b7": {
          "model_module": "@jupyter-widgets/base",
          "model_name": "LayoutModel",
          "model_module_version": "1.2.0",
          "state": {
            "_model_module": "@jupyter-widgets/base",
            "_model_module_version": "1.2.0",
            "_model_name": "LayoutModel",
            "_view_count": null,
            "_view_module": "@jupyter-widgets/base",
            "_view_module_version": "1.2.0",
            "_view_name": "LayoutView",
            "align_content": null,
            "align_items": null,
            "align_self": null,
            "border": null,
            "bottom": null,
            "display": null,
            "flex": null,
            "flex_flow": null,
            "grid_area": null,
            "grid_auto_columns": null,
            "grid_auto_flow": null,
            "grid_auto_rows": null,
            "grid_column": null,
            "grid_gap": null,
            "grid_row": null,
            "grid_template_areas": null,
            "grid_template_columns": null,
            "grid_template_rows": null,
            "height": null,
            "justify_content": null,
            "justify_items": null,
            "left": null,
            "margin": null,
            "max_height": null,
            "max_width": null,
            "min_height": null,
            "min_width": null,
            "object_fit": null,
            "object_position": null,
            "order": null,
            "overflow": null,
            "overflow_x": null,
            "overflow_y": null,
            "padding": null,
            "right": null,
            "top": null,
            "visibility": null,
            "width": null
          }
        },
        "67d7f4d4e90d433284c1a7d6ae7de392": {
          "model_module": "@jupyter-widgets/base",
          "model_name": "LayoutModel",
          "model_module_version": "1.2.0",
          "state": {
            "_model_module": "@jupyter-widgets/base",
            "_model_module_version": "1.2.0",
            "_model_name": "LayoutModel",
            "_view_count": null,
            "_view_module": "@jupyter-widgets/base",
            "_view_module_version": "1.2.0",
            "_view_name": "LayoutView",
            "align_content": null,
            "align_items": null,
            "align_self": null,
            "border": null,
            "bottom": null,
            "display": null,
            "flex": null,
            "flex_flow": null,
            "grid_area": null,
            "grid_auto_columns": null,
            "grid_auto_flow": null,
            "grid_auto_rows": null,
            "grid_column": null,
            "grid_gap": null,
            "grid_row": null,
            "grid_template_areas": null,
            "grid_template_columns": null,
            "grid_template_rows": null,
            "height": null,
            "justify_content": null,
            "justify_items": null,
            "left": null,
            "margin": null,
            "max_height": null,
            "max_width": null,
            "min_height": null,
            "min_width": null,
            "object_fit": null,
            "object_position": null,
            "order": null,
            "overflow": null,
            "overflow_x": null,
            "overflow_y": null,
            "padding": null,
            "right": null,
            "top": null,
            "visibility": null,
            "width": null
          }
        },
        "59b2d2aeeaf941559ea9f3dad66788a1": {
          "model_module": "@jupyter-widgets/controls",
          "model_name": "DescriptionStyleModel",
          "model_module_version": "1.5.0",
          "state": {
            "_model_module": "@jupyter-widgets/controls",
            "_model_module_version": "1.5.0",
            "_model_name": "DescriptionStyleModel",
            "_view_count": null,
            "_view_module": "@jupyter-widgets/base",
            "_view_module_version": "1.2.0",
            "_view_name": "StyleView",
            "description_width": ""
          }
        },
        "6786f019147245fa88bb927772d79f72": {
          "model_module": "@jupyter-widgets/base",
          "model_name": "LayoutModel",
          "model_module_version": "1.2.0",
          "state": {
            "_model_module": "@jupyter-widgets/base",
            "_model_module_version": "1.2.0",
            "_model_name": "LayoutModel",
            "_view_count": null,
            "_view_module": "@jupyter-widgets/base",
            "_view_module_version": "1.2.0",
            "_view_name": "LayoutView",
            "align_content": null,
            "align_items": null,
            "align_self": null,
            "border": null,
            "bottom": null,
            "display": null,
            "flex": null,
            "flex_flow": null,
            "grid_area": null,
            "grid_auto_columns": null,
            "grid_auto_flow": null,
            "grid_auto_rows": null,
            "grid_column": null,
            "grid_gap": null,
            "grid_row": null,
            "grid_template_areas": null,
            "grid_template_columns": null,
            "grid_template_rows": null,
            "height": null,
            "justify_content": null,
            "justify_items": null,
            "left": null,
            "margin": null,
            "max_height": null,
            "max_width": null,
            "min_height": null,
            "min_width": null,
            "object_fit": null,
            "object_position": null,
            "order": null,
            "overflow": null,
            "overflow_x": null,
            "overflow_y": null,
            "padding": null,
            "right": null,
            "top": null,
            "visibility": null,
            "width": null
          }
        },
        "3a05199bdaf447b995556cde184dae07": {
          "model_module": "@jupyter-widgets/controls",
          "model_name": "ProgressStyleModel",
          "model_module_version": "1.5.0",
          "state": {
            "_model_module": "@jupyter-widgets/controls",
            "_model_module_version": "1.5.0",
            "_model_name": "ProgressStyleModel",
            "_view_count": null,
            "_view_module": "@jupyter-widgets/base",
            "_view_module_version": "1.2.0",
            "_view_name": "StyleView",
            "bar_color": null,
            "description_width": ""
          }
        },
        "566a2ce4ff4b477db446f4ade309487a": {
          "model_module": "@jupyter-widgets/base",
          "model_name": "LayoutModel",
          "model_module_version": "1.2.0",
          "state": {
            "_model_module": "@jupyter-widgets/base",
            "_model_module_version": "1.2.0",
            "_model_name": "LayoutModel",
            "_view_count": null,
            "_view_module": "@jupyter-widgets/base",
            "_view_module_version": "1.2.0",
            "_view_name": "LayoutView",
            "align_content": null,
            "align_items": null,
            "align_self": null,
            "border": null,
            "bottom": null,
            "display": null,
            "flex": null,
            "flex_flow": null,
            "grid_area": null,
            "grid_auto_columns": null,
            "grid_auto_flow": null,
            "grid_auto_rows": null,
            "grid_column": null,
            "grid_gap": null,
            "grid_row": null,
            "grid_template_areas": null,
            "grid_template_columns": null,
            "grid_template_rows": null,
            "height": null,
            "justify_content": null,
            "justify_items": null,
            "left": null,
            "margin": null,
            "max_height": null,
            "max_width": null,
            "min_height": null,
            "min_width": null,
            "object_fit": null,
            "object_position": null,
            "order": null,
            "overflow": null,
            "overflow_x": null,
            "overflow_y": null,
            "padding": null,
            "right": null,
            "top": null,
            "visibility": null,
            "width": null
          }
        },
        "e538be945875448d9fe4050ce5e7b796": {
          "model_module": "@jupyter-widgets/controls",
          "model_name": "DescriptionStyleModel",
          "model_module_version": "1.5.0",
          "state": {
            "_model_module": "@jupyter-widgets/controls",
            "_model_module_version": "1.5.0",
            "_model_name": "DescriptionStyleModel",
            "_view_count": null,
            "_view_module": "@jupyter-widgets/base",
            "_view_module_version": "1.2.0",
            "_view_name": "StyleView",
            "description_width": ""
          }
        }
      }
    }
  },
  "cells": [
    {
      "cell_type": "code",
      "execution_count": 2,
      "metadata": {
        "id": "Q0vP9fvnH1U_"
      },
      "outputs": [],
      "source": [
        "import os\n",
        "from pathlib import Path\n",
        "from tqdm.auto import tqdm\n",
        "from timeit import default_timer as timer\n",
        "\n",
        "import torch\n",
        "import torch.nn as nn\n",
        "from torchvision.datasets import MNIST"
      ]
    },
    {
      "cell_type": "code",
      "source": [
        "!pwd"
      ],
      "metadata": {
        "colab": {
          "base_uri": "https://localhost:8080/"
        },
        "id": "rSAg3g1iIP15",
        "outputId": "2562c2ab-0ace-4ae7-96ca-6af53e1cab79"
      },
      "execution_count": 3,
      "outputs": [
        {
          "output_type": "stream",
          "name": "stdout",
          "text": [
            "/content\n"
          ]
        }
      ]
    },
    {
      "cell_type": "code",
      "source": [
        "from torchvision.transforms import ToTensor\n",
        "\n",
        "data_dir = Path(\"data/mnist\")\n",
        "\n",
        "def download_MNIST_dataset(data_dir : Path) -> None | torch.utils.data.Dataset:\n",
        "\n",
        "  train_dir = data_dir / \"train\"\n",
        "  test_dir = data_dir / \"test\"\n",
        "  train_dataset = MNIST(root=train_dir, train=True, download=True, target_transform=None, transform=ToTensor())\n",
        "  test_dataset = MNIST(root=test_dir, train=False, download=True, target_transform=None, transform=ToTensor())\n",
        "\n",
        "  return train_dataset, test_dataset\n"
      ],
      "metadata": {
        "id": "JxyNSB2iIVpQ"
      },
      "execution_count": 4,
      "outputs": []
    },
    {
      "cell_type": "code",
      "source": [
        "train_dataset, test_dataset = download_MNIST_dataset(data_dir)"
      ],
      "metadata": {
        "colab": {
          "base_uri": "https://localhost:8080/"
        },
        "id": "5mR1neDGJyOd",
        "outputId": "a07f16c4-a305-4425-888d-41635101be0b"
      },
      "execution_count": 5,
      "outputs": [
        {
          "output_type": "stream",
          "name": "stdout",
          "text": [
            "Downloading http://yann.lecun.com/exdb/mnist/train-images-idx3-ubyte.gz\n",
            "Downloading http://yann.lecun.com/exdb/mnist/train-images-idx3-ubyte.gz to data/mnist/train/MNIST/raw/train-images-idx3-ubyte.gz\n"
          ]
        },
        {
          "output_type": "stream",
          "name": "stderr",
          "text": [
            "100%|██████████| 9912422/9912422 [00:00<00:00, 124567687.09it/s]\n"
          ]
        },
        {
          "output_type": "stream",
          "name": "stdout",
          "text": [
            "Extracting data/mnist/train/MNIST/raw/train-images-idx3-ubyte.gz to data/mnist/train/MNIST/raw\n",
            "\n",
            "Downloading http://yann.lecun.com/exdb/mnist/train-labels-idx1-ubyte.gz\n",
            "Downloading http://yann.lecun.com/exdb/mnist/train-labels-idx1-ubyte.gz to data/mnist/train/MNIST/raw/train-labels-idx1-ubyte.gz\n"
          ]
        },
        {
          "output_type": "stream",
          "name": "stderr",
          "text": [
            "100%|██████████| 28881/28881 [00:00<00:00, 94269022.43it/s]\n"
          ]
        },
        {
          "output_type": "stream",
          "name": "stdout",
          "text": [
            "Extracting data/mnist/train/MNIST/raw/train-labels-idx1-ubyte.gz to data/mnist/train/MNIST/raw\n",
            "\n",
            "Downloading http://yann.lecun.com/exdb/mnist/t10k-images-idx3-ubyte.gz\n",
            "Downloading http://yann.lecun.com/exdb/mnist/t10k-images-idx3-ubyte.gz to data/mnist/train/MNIST/raw/t10k-images-idx3-ubyte.gz\n"
          ]
        },
        {
          "output_type": "stream",
          "name": "stderr",
          "text": [
            "100%|██████████| 1648877/1648877 [00:00<00:00, 37132502.17it/s]"
          ]
        },
        {
          "output_type": "stream",
          "name": "stdout",
          "text": [
            "Extracting data/mnist/train/MNIST/raw/t10k-images-idx3-ubyte.gz to data/mnist/train/MNIST/raw\n"
          ]
        },
        {
          "output_type": "stream",
          "name": "stderr",
          "text": [
            "\n"
          ]
        },
        {
          "output_type": "stream",
          "name": "stdout",
          "text": [
            "\n",
            "Downloading http://yann.lecun.com/exdb/mnist/t10k-labels-idx1-ubyte.gz\n",
            "Downloading http://yann.lecun.com/exdb/mnist/t10k-labels-idx1-ubyte.gz to data/mnist/train/MNIST/raw/t10k-labels-idx1-ubyte.gz\n"
          ]
        },
        {
          "output_type": "stream",
          "name": "stderr",
          "text": [
            "100%|██████████| 4542/4542 [00:00<00:00, 24053697.94it/s]\n"
          ]
        },
        {
          "output_type": "stream",
          "name": "stdout",
          "text": [
            "Extracting data/mnist/train/MNIST/raw/t10k-labels-idx1-ubyte.gz to data/mnist/train/MNIST/raw\n",
            "\n",
            "Downloading http://yann.lecun.com/exdb/mnist/train-images-idx3-ubyte.gz\n",
            "Downloading http://yann.lecun.com/exdb/mnist/train-images-idx3-ubyte.gz to data/mnist/test/MNIST/raw/train-images-idx3-ubyte.gz\n"
          ]
        },
        {
          "output_type": "stream",
          "name": "stderr",
          "text": [
            "100%|██████████| 9912422/9912422 [00:00<00:00, 124098821.40it/s]"
          ]
        },
        {
          "output_type": "stream",
          "name": "stdout",
          "text": [
            "Extracting data/mnist/test/MNIST/raw/train-images-idx3-ubyte.gz to data/mnist/test/MNIST/raw\n"
          ]
        },
        {
          "output_type": "stream",
          "name": "stderr",
          "text": [
            "\n"
          ]
        },
        {
          "output_type": "stream",
          "name": "stdout",
          "text": [
            "\n",
            "Downloading http://yann.lecun.com/exdb/mnist/train-labels-idx1-ubyte.gz\n",
            "Downloading http://yann.lecun.com/exdb/mnist/train-labels-idx1-ubyte.gz to data/mnist/test/MNIST/raw/train-labels-idx1-ubyte.gz\n"
          ]
        },
        {
          "output_type": "stream",
          "name": "stderr",
          "text": [
            "100%|██████████| 28881/28881 [00:00<00:00, 109724360.35it/s]\n"
          ]
        },
        {
          "output_type": "stream",
          "name": "stdout",
          "text": [
            "Extracting data/mnist/test/MNIST/raw/train-labels-idx1-ubyte.gz to data/mnist/test/MNIST/raw\n",
            "\n",
            "Downloading http://yann.lecun.com/exdb/mnist/t10k-images-idx3-ubyte.gz\n",
            "Downloading http://yann.lecun.com/exdb/mnist/t10k-images-idx3-ubyte.gz to data/mnist/test/MNIST/raw/t10k-images-idx3-ubyte.gz\n"
          ]
        },
        {
          "output_type": "stream",
          "name": "stderr",
          "text": [
            "100%|██████████| 1648877/1648877 [00:00<00:00, 35600845.23it/s]"
          ]
        },
        {
          "output_type": "stream",
          "name": "stdout",
          "text": [
            "Extracting data/mnist/test/MNIST/raw/t10k-images-idx3-ubyte.gz to data/mnist/test/MNIST/raw\n"
          ]
        },
        {
          "output_type": "stream",
          "name": "stderr",
          "text": [
            "\n"
          ]
        },
        {
          "output_type": "stream",
          "name": "stdout",
          "text": [
            "\n",
            "Downloading http://yann.lecun.com/exdb/mnist/t10k-labels-idx1-ubyte.gz\n",
            "Downloading http://yann.lecun.com/exdb/mnist/t10k-labels-idx1-ubyte.gz to data/mnist/test/MNIST/raw/t10k-labels-idx1-ubyte.gz\n"
          ]
        },
        {
          "output_type": "stream",
          "name": "stderr",
          "text": [
            "100%|██████████| 4542/4542 [00:00<00:00, 3329929.87it/s]\n"
          ]
        },
        {
          "output_type": "stream",
          "name": "stdout",
          "text": [
            "Extracting data/mnist/test/MNIST/raw/t10k-labels-idx1-ubyte.gz to data/mnist/test/MNIST/raw\n",
            "\n"
          ]
        }
      ]
    },
    {
      "cell_type": "code",
      "source": [
        "train_dataset.classes"
      ],
      "metadata": {
        "colab": {
          "base_uri": "https://localhost:8080/"
        },
        "id": "ARlqz6EtJ0PB",
        "outputId": "e9d7de1e-8938-4bca-8f62-bfb02fcc3efe"
      },
      "execution_count": 9,
      "outputs": [
        {
          "output_type": "execute_result",
          "data": {
            "text/plain": [
              "['0 - zero',\n",
              " '1 - one',\n",
              " '2 - two',\n",
              " '3 - three',\n",
              " '4 - four',\n",
              " '5 - five',\n",
              " '6 - six',\n",
              " '7 - seven',\n",
              " '8 - eight',\n",
              " '9 - nine']"
            ]
          },
          "metadata": {},
          "execution_count": 9
        }
      ]
    },
    {
      "cell_type": "code",
      "source": [
        "image, label = train_dataset.data[0], train_dataset.targets[0]\n",
        "image.shape\n"
      ],
      "metadata": {
        "colab": {
          "base_uri": "https://localhost:8080/"
        },
        "id": "Mo_NdqobKRA9",
        "outputId": "3122b05d-a929-4b83-996c-1f799109796b"
      },
      "execution_count": 15,
      "outputs": [
        {
          "output_type": "execute_result",
          "data": {
            "text/plain": [
              "torch.Size([28, 28])"
            ]
          },
          "metadata": {},
          "execution_count": 15
        }
      ]
    },
    {
      "cell_type": "code",
      "source": [
        "type(train_dataset.data)"
      ],
      "metadata": {
        "colab": {
          "base_uri": "https://localhost:8080/"
        },
        "id": "KPsMaouhLHjp",
        "outputId": "8c8a1300-aa7b-4937-b8de-6da029579051"
      },
      "execution_count": 18,
      "outputs": [
        {
          "output_type": "execute_result",
          "data": {
            "text/plain": [
              "torch.Tensor"
            ]
          },
          "metadata": {},
          "execution_count": 18
        }
      ]
    },
    {
      "cell_type": "code",
      "source": [
        "import matplotlib.pyplot as plt\n",
        "\n",
        "plt.imshow(image.unsqueeze(dim=2), cmap='gray');\n",
        "plt.title(train_dataset.classes[label])\n",
        "plt.axis(False);"
      ],
      "metadata": {
        "colab": {
          "base_uri": "https://localhost:8080/",
          "height": 428
        },
        "id": "wTo2GCIZKdXj",
        "outputId": "e469bf5c-a551-49b4-809c-1f26dd7d944f"
      },
      "execution_count": 17,
      "outputs": [
        {
          "output_type": "display_data",
          "data": {
            "text/plain": [
              "<Figure size 640x480 with 1 Axes>"
            ],
            "image/png": "[encoded data removed]"
          },
          "metadata": {}
        }
      ]
    },
    {
      "cell_type": "code",
      "source": [
        "import random\n",
        "\n",
        "class_names = train_dataset.classes\n",
        "\n",
        "def visualize_random_pictures(list_dataset : torch.Tensor, target: torch.Tensor, n: int = 4, seed: int = 82) -> None:\n",
        "  size = len(list_dataset)\n",
        "  random.seed(seed)\n",
        "  plt.figure(figsize=(12, 6))\n",
        "\n",
        "  for i in range(n):\n",
        "    randidx = random.randint(0, size)\n",
        "    image, label = list_dataset[randidx], target[randidx]\n",
        "\n",
        "    plt.subplot((n // 4) + 1, 4, i + 1)\n",
        "    plt.imshow(image.unsqueeze(dim = 2), cmap='gray')\n",
        "    plt.title(class_names[label])\n",
        "    plt.axis(False)\n",
        "\n",
        "  plt.show()"
      ],
      "metadata": {
        "id": "BXkBzpYbKwWe"
      },
      "execution_count": 33,
      "outputs": []
    },
    {
      "cell_type": "code",
      "source": [
        "from torch.utils.data import DataLoader\n",
        "batch_size = 32\n",
        "\n",
        "train_dataloader = DataLoader(dataset=train_dataset ,\n",
        "                              batch_size=32,\n",
        "                              shuffle=True)\n",
        "\n",
        "test_dataloader = DataLoader(dataset=test_dataset ,\n",
        "                              batch_size=32,\n",
        "                              shuffle=True)"
      ],
      "metadata": {
        "id": "wcngo81JSXVS"
      },
      "execution_count": 55,
      "outputs": []
    },
    {
      "cell_type": "code",
      "source": [
        "visualize_random_pictures(list_dataset=test_dataset.data,\n",
        "                           target=test_dataset.targets)"
      ],
      "metadata": {
        "colab": {
          "base_uri": "https://localhost:8080/",
          "height": 261
        },
        "id": "fQHZnIjOMJSZ",
        "outputId": "51451077-120d-4a08-b348-ec272267dbd8"
      },
      "execution_count": 34,
      "outputs": [
        {
          "output_type": "display_data",
          "data": {
            "text/plain": [
              "<Figure size 1200x600 with 4 Axes>"
            ],
            "image/png": "[encoded data removed]"
          },
          "metadata": {}
        }
      ]
    },
    {
      "cell_type": "code",
      "source": [
        "class SimpleAutoencoder(nn.Module):\n",
        "  def __init__(self, width: int, height: int, latent_dim: int = 64):\n",
        "    super().__init__()\n",
        "\n",
        "    self.encoder = nn.Sequential(\n",
        "        nn.Flatten(),\n",
        "        nn.Linear(in_features=width * height, out_features = 512),\n",
        "        nn.ReLU(),\n",
        "        nn.Linear(in_features=512, out_features = 256),\n",
        "        nn.ReLU(),\n",
        "        nn.Linear(in_features=256, out_features = latent_dim),\n",
        "        nn.ReLU()\n",
        "    )\n",
        "\n",
        "\n",
        "    self.decoder = nn.Sequential(\n",
        "        nn.Linear(in_features=latent_dim, out_features = 256),\n",
        "        nn.ReLU(),\n",
        "        nn.Linear(in_features=256, out_features = 512),\n",
        "        nn.ReLU(),\n",
        "        nn.Linear(in_features=512, out_features = width * height),\n",
        "        nn.Sigmoid()\n",
        "    )\n",
        "\n",
        "  def forward(self, x):\n",
        "    return self.decoder(self.encoder(x)).reshape(-1, 1, width, height)"
      ],
      "metadata": {
        "id": "wcOH2zT4MZiN"
      },
      "execution_count": 142,
      "outputs": []
    },
    {
      "cell_type": "code",
      "source": [
        "width, height = image.shape\n",
        "width"
      ],
      "metadata": {
        "colab": {
          "base_uri": "https://localhost:8080/"
        },
        "id": "Us-GkHBBO5UQ",
        "outputId": "09db7fa1-336e-4825-dc9a-16cf879de4a4"
      },
      "execution_count": 143,
      "outputs": [
        {
          "output_type": "execute_result",
          "data": {
            "text/plain": [
              "28"
            ]
          },
          "metadata": {},
          "execution_count": 143
        }
      ]
    },
    {
      "cell_type": "code",
      "source": [
        "device = \"cuda\" if torch.cuda.is_available() else \"cpu\"\n",
        "\n",
        "model_0 = SimpleAutoencoder(width=28, height=28).to(device)\n",
        "\n",
        "loss_fn_0 = nn.MSELoss()\n",
        "\n",
        "optimizer_0 = torch.optim.Adam(params=model_0.parameters(), lr=.03)"
      ],
      "metadata": {
        "id": "XNp7jzrqOOtC"
      },
      "execution_count": 145,
      "outputs": []
    },
    {
      "cell_type": "code",
      "source": [
        "def train_step(model: nn.Module,\n",
        "               dataloader: torch.utils.data.DataLoader,\n",
        "               loss_fn: nn.Module,\n",
        "               optimizer: torch.optim.Optimizer,\n",
        "               device: torch.device='cuda') -> float:\n",
        "  model.train()\n",
        "  total_loss = 0\n",
        "  for idx, (X, _) in enumerate(dataloader):\n",
        "    X = X.to(device)\n",
        "\n",
        "    y_pred = model(X)\n",
        "    loss = loss_fn(y_pred, X)\n",
        "    optimizer.zero_grad()\n",
        "    loss.backward()\n",
        "    optimizer.step()\n",
        "\n",
        "    total_loss += loss\n",
        "    if idx % 400 == 0:\n",
        "      print(f\"Trained on {idx * len(X)}/{len(dataloader.dataset)}\")\n",
        "  total_loss /= len(dataloader)\n",
        "\n",
        "  print(f\"Train Loss: {total_loss:.4f}\", end=\" | \")\n",
        "  return total_loss"
      ],
      "metadata": {
        "id": "FbYwiX4xPWpF"
      },
      "execution_count": 138,
      "outputs": []
    },
    {
      "cell_type": "code",
      "source": [
        "def test_step(model: nn.Module,\n",
        "               dataloader: torch.utils.data.DataLoader,\n",
        "               loss_fn: nn.Module,\n",
        "               device: torch.device='cuda') -> float:\n",
        "  model.eval()\n",
        "  total_loss = 0\n",
        "  for X, _ in dataloader:\n",
        "    X = X.to(device)\n",
        "\n",
        "    y_pred = model(X)\n",
        "    loss = loss_fn(y_pred, X)\n",
        "\n",
        "    total_loss += loss\n",
        "  total_loss /= len(dataloader)\n",
        "\n",
        "  print(f\"Test Loss: {total_loss:.4f}\")\n",
        "  return total_loss"
      ],
      "metadata": {
        "id": "YXQUCRBjRD_V"
      },
      "execution_count": 139,
      "outputs": []
    },
    {
      "cell_type": "code",
      "source": [
        "def train_loop(model: nn.Module,\n",
        "               train_dataloader: torch.utils.data.DataLoader,\n",
        "               test_dataloader: torch.utils.data.DataLoader,\n",
        "               loss_fn: nn.Module,\n",
        "               optimizer: torch.optim.Optimizer,\n",
        "               epochs: int = 10,\n",
        "               device: torch.device = \"cuda\") -> None:\n",
        "\n",
        "  start_timer = timer()\n",
        "\n",
        "  for epoch in tqdm(range(epochs)):\n",
        "    print(f\"Epoch: {epoch}\\n--------\\n\")\n",
        "\n",
        "    train_step(model=model,\n",
        "               dataloader=train_dataloader,\n",
        "               loss_fn=loss_fn,\n",
        "               optimizer=optimizer,\n",
        "               device=device)\n",
        "    test_step(model=model,\n",
        "               dataloader=test_dataloader,\n",
        "               loss_fn=loss_fn,\n",
        "               device=device)\n",
        "\n",
        "  end_timer = timer()\n",
        "  print(f\"Total time train on {device}: {end_timer - start_timer:.4f}\")"
      ],
      "metadata": {
        "id": "2T_XRxTtRNGU"
      },
      "execution_count": 140,
      "outputs": []
    },
    {
      "cell_type": "code",
      "source": [
        "train_loop(model=model_0,\n",
        "            train_dataloader=train_dataloader,\n",
        "            test_dataloader=test_dataloader ,\n",
        "            loss_fn=loss_fn_0,\n",
        "            optimizer=optimizer_0,\n",
        "            epochs = 20)"
      ],
      "metadata": {
        "colab": {
          "base_uri": "https://localhost:8080/",
          "height": 1000,
          "referenced_widgets": [
            "2d117233b49a428abc9ce8144984e94c",
            "2488227f4b9940f08753c335c78551a5",
            "7c9eaff5b6c747ecb2bbeef082530311",
            "bbab4c40881c4220a8ccc1cf0baa4668",
            "9484b4b456b24ec7b34e53cb00caa4b7",
            "67d7f4d4e90d433284c1a7d6ae7de392",
            "59b2d2aeeaf941559ea9f3dad66788a1",
            "6786f019147245fa88bb927772d79f72",
            "3a05199bdaf447b995556cde184dae07",
            "566a2ce4ff4b477db446f4ade309487a",
            "e538be945875448d9fe4050ce5e7b796"
          ]
        },
        "id": "i9yPm1kBSSy3",
        "outputId": "fc285543-61f9-4e26-f879-74096a8ac98b"
      },
      "execution_count": 168,
      "outputs": [
        {
          "output_type": "display_data",
          "data": {
            "text/plain": [
              "  0%|          | 0/20 [00:00<?, ?it/s]"
            ],
            "application/vnd.jupyter.widget-view+json": {
              "version_major": 2,
              "version_minor": 0,
              "model_id": "2d117233b49a428abc9ce8144984e94c"
            }
          },
          "metadata": {}
        },
        {
          "output_type": "stream",
          "name": "stdout",
          "text": [
            "Epoch: 0\n",
            "--------\n",
            "\n",
            "Trained on 0/60000\n",
            "Trained on 12800/60000\n",
            "Trained on 25600/60000\n",
            "Trained on 38400/60000\n",
            "Trained on 51200/60000\n",
            "Train Loss: 0.0651 | Test Loss: 0.0652\n",
            "Epoch: 1\n",
            "--------\n",
            "\n",
            "Trained on 0/60000\n",
            "Trained on 12800/60000\n",
            "Trained on 25600/60000\n",
            "Trained on 38400/60000\n",
            "Trained on 51200/60000\n",
            "Train Loss: 0.0649 | Test Loss: 0.0650\n",
            "Epoch: 2\n",
            "--------\n",
            "\n",
            "Trained on 0/60000\n",
            "Trained on 12800/60000\n",
            "Trained on 25600/60000\n",
            "Trained on 38400/60000\n",
            "Trained on 51200/60000\n",
            "Train Loss: 0.0648 | Test Loss: 0.0648\n",
            "Epoch: 3\n",
            "--------\n",
            "\n",
            "Trained on 0/60000\n",
            "Trained on 12800/60000\n",
            "Trained on 25600/60000\n",
            "Trained on 38400/60000\n",
            "Trained on 51200/60000\n",
            "Train Loss: 0.0646 | Test Loss: 0.0647\n",
            "Epoch: 4\n",
            "--------\n",
            "\n",
            "Trained on 0/60000\n",
            "Trained on 12800/60000\n",
            "Trained on 25600/60000\n",
            "Trained on 38400/60000\n",
            "Trained on 51200/60000\n",
            "Train Loss: 0.0645 | Test Loss: 0.0645\n",
            "Epoch: 5\n",
            "--------\n",
            "\n",
            "Trained on 0/60000\n",
            "Trained on 12800/60000\n",
            "Trained on 25600/60000\n",
            "Trained on 38400/60000\n",
            "Trained on 51200/60000\n",
            "Train Loss: 0.0643 | Test Loss: 0.0644\n",
            "Epoch: 6\n",
            "--------\n",
            "\n",
            "Trained on 0/60000\n",
            "Trained on 12800/60000\n",
            "Trained on 25600/60000\n",
            "Trained on 38400/60000\n",
            "Trained on 51200/60000\n",
            "Train Loss: 0.0642 | Test Loss: 0.0643\n",
            "Epoch: 7\n",
            "--------\n",
            "\n",
            "Trained on 0/60000\n",
            "Trained on 12800/60000\n",
            "Trained on 25600/60000\n",
            "Trained on 38400/60000\n",
            "Trained on 51200/60000\n",
            "Train Loss: 0.0641 | Test Loss: 0.0642\n",
            "Epoch: 8\n",
            "--------\n",
            "\n",
            "Trained on 0/60000\n",
            "Trained on 12800/60000\n",
            "Trained on 25600/60000\n",
            "Trained on 38400/60000\n",
            "Trained on 51200/60000\n",
            "Train Loss: 0.0640 | Test Loss: 0.0640\n",
            "Epoch: 9\n",
            "--------\n",
            "\n",
            "Trained on 0/60000\n",
            "Trained on 12800/60000\n",
            "Trained on 25600/60000\n",
            "Trained on 38400/60000\n",
            "Trained on 51200/60000\n",
            "Train Loss: 0.0639 | Test Loss: 0.0639\n",
            "Epoch: 10\n",
            "--------\n",
            "\n",
            "Trained on 0/60000\n",
            "Trained on 12800/60000\n",
            "Trained on 25600/60000\n",
            "Trained on 38400/60000\n",
            "Trained on 51200/60000\n",
            "Train Loss: 0.0637 | Test Loss: 0.0638\n",
            "Epoch: 11\n",
            "--------\n",
            "\n",
            "Trained on 0/60000\n",
            "Trained on 12800/60000\n",
            "Trained on 25600/60000\n",
            "Trained on 38400/60000\n",
            "Trained on 51200/60000\n",
            "Train Loss: 0.0636 | Test Loss: 0.0638\n",
            "Epoch: 12\n",
            "--------\n",
            "\n",
            "Trained on 0/60000\n",
            "Trained on 12800/60000\n",
            "Trained on 25600/60000\n",
            "Trained on 38400/60000\n",
            "Trained on 51200/60000\n",
            "Train Loss: 0.0635 | Test Loss: 0.0637\n",
            "Epoch: 13\n",
            "--------\n",
            "\n",
            "Trained on 0/60000\n",
            "Trained on 12800/60000\n",
            "Trained on 25600/60000\n",
            "Trained on 38400/60000\n",
            "Trained on 51200/60000\n",
            "Train Loss: 0.0634 | Test Loss: 0.0635\n",
            "Epoch: 14\n",
            "--------\n",
            "\n",
            "Trained on 0/60000\n",
            "Trained on 12800/60000\n",
            "Trained on 25600/60000\n",
            "Trained on 38400/60000\n",
            "Trained on 51200/60000\n",
            "Train Loss: 0.0633 | Test Loss: 0.0634\n",
            "Epoch: 15\n",
            "--------\n",
            "\n",
            "Trained on 0/60000\n",
            "Trained on 12800/60000\n",
            "Trained on 25600/60000\n",
            "Trained on 38400/60000\n",
            "Trained on 51200/60000\n",
            "Train Loss: 0.0632 | Test Loss: 0.0633\n",
            "Epoch: 16\n",
            "--------\n",
            "\n",
            "Trained on 0/60000\n",
            "Trained on 12800/60000\n",
            "Trained on 25600/60000\n",
            "Trained on 38400/60000\n",
            "Trained on 51200/60000\n",
            "Train Loss: 0.0631 | Test Loss: 0.0632\n",
            "Epoch: 17\n",
            "--------\n",
            "\n",
            "Trained on 0/60000\n",
            "Trained on 12800/60000\n",
            "Trained on 25600/60000\n",
            "Trained on 38400/60000\n",
            "Trained on 51200/60000\n",
            "Train Loss: 0.0630 | Test Loss: 0.0631\n",
            "Epoch: 18\n",
            "--------\n",
            "\n",
            "Trained on 0/60000\n",
            "Trained on 12800/60000\n",
            "Trained on 25600/60000\n",
            "Trained on 38400/60000\n",
            "Trained on 51200/60000\n",
            "Train Loss: 0.0629 | Test Loss: 0.0630\n",
            "Epoch: 19\n",
            "--------\n",
            "\n",
            "Trained on 0/60000\n",
            "Trained on 12800/60000\n",
            "Trained on 25600/60000\n",
            "Trained on 38400/60000\n",
            "Trained on 51200/60000\n",
            "Train Loss: 0.0628 | Test Loss: 0.0629\n",
            "Total time train on cuda: 220.3661\n"
          ]
        }
      ]
    },
    {
      "cell_type": "code",
      "source": [
        "image, _ = test_dataset[20]\n",
        "plt.imshow(image.permute(1, 2, 0), cmap='gray')"
      ],
      "metadata": {
        "colab": {
          "base_uri": "https://localhost:8080/",
          "height": 447
        },
        "id": "NWq-xwj2T2Hu",
        "outputId": "500059a1-d8b0-4564-c96e-b2fc6a536bfc"
      },
      "execution_count": 172,
      "outputs": [
        {
          "output_type": "execute_result",
          "data": {
            "text/plain": [
              "<matplotlib.image.AxesImage at 0x7d46a15e8280>"
            ]
          },
          "metadata": {},
          "execution_count": 172
        },
        {
          "output_type": "display_data",
          "data": {
            "text/plain": [
              "<Figure size 640x480 with 1 Axes>"
            ],
            "image/png": "[encoded data removed]"
          },
          "metadata": {}
        }
      ]
    },
    {
      "cell_type": "code",
      "source": [
        "ae_image = model_0(image.unsqueeze(dim = 0).to(device)).cpu().detach().squeeze(dim=0).permute(1, 2, 0)"
      ],
      "metadata": {
        "id": "EoLmjB-sWmgm"
      },
      "execution_count": 173,
      "outputs": []
    },
    {
      "cell_type": "code",
      "source": [
        "plt.imshow(ae_image, cmap='gray')"
      ],
      "metadata": {
        "colab": {
          "base_uri": "https://localhost:8080/",
          "height": 447
        },
        "id": "boib6GuXWpLE",
        "outputId": "33ca74c7-8ef7-46e0-ea15-a9fe18adad4e"
      },
      "execution_count": 174,
      "outputs": [
        {
          "output_type": "execute_result",
          "data": {
            "text/plain": [
              "<matplotlib.image.AxesImage at 0x7d46a15949d0>"
            ]
          },
          "metadata": {},
          "execution_count": 174
        },
        {
          "output_type": "display_data",
          "data": {
            "text/plain": [
              "<Figure size 640x480 with 1 Axes>"
            ],
            "image/png": "[encoded data removed]"
          },
          "metadata": {}
        }
      ]
    },
    {
      "cell_type": "code",
      "source": [],
      "metadata": {
        "id": "RQdFu5c1W1RG"
      },
      "execution_count": null,
      "outputs": []
    }
  ]
}